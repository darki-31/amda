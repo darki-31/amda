{
 "cells": [
  {
   "cell_type": "markdown",
   "metadata": {},
   "source": [
    "Here I will explain how you can fix the data inside the csv if there something wrong with e.g. animal IDs or readers."
   ]
  },
  {
   "cell_type": "markdown",
   "metadata": {},
   "source": [
    "# Fix animals IDs\n",
    "\n",
    "If the animal was not specified in the configuration before the recording, PhenoSoft Control writes \"unknown\" as animal tag. In the analysis such animals will be irgnored. So we have to provide a correct name.\n",
    "\n",
    "Let's import the tool for data correction."
   ]
  },
  {
   "cell_type": "code",
   "execution_count": 1,
   "metadata": {},
   "outputs": [],
   "source": [
    "import am_file_tools as ft"
   ]
  },
  {
   "cell_type": "markdown",
   "metadata": {},
   "source": [
    "Let's find out all animal IDs."
   ]
  },
  {
   "cell_type": "code",
   "execution_count": 2,
   "metadata": {},
   "outputs": [],
   "source": [
    "ids = ft.get_all_ids(\"data\\\\Sample-20.09.08.csv\")"
   ]
  },
  {
   "cell_type": "markdown",
   "metadata": {},
   "source": [
    "The function returns a dictionary with IDs, animal tags and number of events."
   ]
  },
  {
   "cell_type": "code",
   "execution_count": 3,
   "metadata": {},
   "outputs": [
    {
     "name": "stdout",
     "output_type": "stream",
     "text": [
      "041A55565F {'name': 'unknown', 'events': 40373}\n",
      "041A5556B6 {'name': 'unknown', 'events': 82853}\n",
      "041A555868 {'name': 'unknown', 'events': 92742}\n",
      "041A5553F9 {'name': 'unknown', 'events': 26372}\n",
      "041A555FD5 {'name': 'unknown', 'events': 27275}\n",
      "041A555673 {'name': 'unknown', 'events': 192171}\n",
      "041A555871 {'name': 'unknown', 'events': 13704}\n",
      "041A55579E {'name': 'unknown', 'events': 36475}\n",
      "041A35563F {'name': 'unknown', 'events': 6}\n",
      "041A5553C9 {'name': 'unknown', 'events': 1}\n",
      "041A335673 {'name': 'unknown', 'events': 9}\n",
      "041A555777 {'name': 'unknown', 'events': 2}\n",
      "041BB46F37 {'name': 'unknown', 'events': 1}\n",
      "041A3356B6 {'name': 'unknown', 'events': 1}\n",
      "071A0536B6 {'name': 'unknown', 'events': 2}\n",
      "041A005673 {'name': 'unknown', 'events': 2}\n",
      "D8D22379EB {'name': 'unknown', 'events': 1}\n",
      "041A355073 {'name': 'unknown', 'events': 4}\n",
      "041A6B48B6 {'name': 'unknown', 'events': 1}\n",
      "041A555489 {'name': 'unknown', 'events': 3}\n",
      "041A335868 {'name': 'unknown', 'events': 5}\n",
      "1A515868C0 {'name': 'unknown', 'events': 1}\n",
      "041A55567B {'name': 'unknown', 'events': 7}\n",
      "041A555878 {'name': 'unknown', 'events': 1}\n",
      "041A53579E {'name': 'unknown', 'events': 1}\n",
      "041A3533F9 {'name': 'unknown', 'events': 3}\n",
      "041A5558B1 {'name': 'unknown', 'events': 22}\n",
      "1A55579EC0 {'name': 'unknown', 'events': 1}\n",
      "041A533673 {'name': 'unknown', 'events': 1}\n",
      "040655567E {'name': 'unknown', 'events': 2}\n",
      "041A35365F {'name': 'unknown', 'events': 4}\n",
      "041A555870 {'name': 'unknown', 'events': 1}\n",
      "68CCA0A13A {'name': 'unknown', 'events': 1}\n",
      "041A5512C0 {'name': 'unknown', 'events': 1}\n",
      "0406555807 {'name': 'unknown', 'events': 1}\n",
      "001A5553FD {'name': 'unknown', 'events': 1}\n",
      "8041A55567 {'name': 'unknown', 'events': 1}\n",
      "041A5357FE {'name': 'unknown', 'events': 1}\n",
      "041A55505F {'name': 'unknown', 'events': 1}\n",
      "041A55365F {'name': 'unknown', 'events': 1}\n",
      "041A54579E {'name': 'unknown', 'events': 1}\n",
      "041A55579C {'name': 'unknown', 'events': 1}\n",
      "06F6555868 {'name': 'unknown', 'events': 2}\n",
      "06F655565F {'name': 'unknown', 'events': 1}\n",
      "041CAAACDC {'name': 'unknown', 'events': 2}\n",
      "C3732E2768 {'name': 'unknown', 'events': 1}\n",
      "041A555FC1 {'name': 'unknown', 'events': 2}\n",
      "041A35379E {'name': 'unknown', 'events': 7}\n",
      "1A15579EA0 {'name': 'unknown', 'events': 1}\n",
      "041A55379E {'name': 'unknown', 'events': 3}\n",
      "0406555FF7 {'name': 'unknown', 'events': 1}\n",
      "041A533FD5 {'name': 'unknown', 'events': 4}\n",
      "041A555867 {'name': 'unknown', 'events': 7}\n",
      "04065551FF {'name': 'unknown', 'events': 1}\n",
      "041A5550ED {'name': 'unknown', 'events': 3}\n",
      "041A5551CF {'name': 'unknown', 'events': 2}\n",
      "041A353673 {'name': 'unknown', 'events': 5}\n",
      "041A95360E {'name': 'unknown', 'events': 1}\n",
      "041A33579E {'name': 'unknown', 'events': 1}\n",
      "041A555BD0 {'name': 'unknown', 'events': 1}\n",
      "041A335FD5 {'name': 'unknown', 'events': 2}\n",
      "041A53379E {'name': 'unknown', 'events': 2}\n",
      "041A555672 {'name': 'unknown', 'events': 2}\n",
      "04065556BA {'name': 'unknown', 'events': 1}\n",
      "071A053673 {'name': 'unknown', 'events': 1}\n",
      "041A555858 {'name': 'unknown', 'events': 1}\n",
      "041A5551CD {'name': 'unknown', 'events': 1}\n",
      "041A5551C7 {'name': 'unknown', 'events': 1}\n",
      "041A533868 {'name': 'unknown', 'events': 7}\n",
      "0406555867 {'name': 'unknown', 'events': 3}\n",
      "041A55579F {'name': 'unknown', 'events': 1}\n",
      "001A5153F9 {'name': 'unknown', 'events': 2}\n",
      "041A555651 {'name': 'unknown', 'events': 2}\n",
      "0406555768 {'name': 'unknown', 'events': 1}\n",
      "0406055673 {'name': 'unknown', 'events': 1}\n",
      "E16FF99D1D {'name': 'unknown', 'events': 1}\n",
      "041A534818 {'name': 'unknown', 'events': 1}\n",
      "041A55581C {'name': 'unknown', 'events': 1}\n",
      "06F65556B6 {'name': 'unknown', 'events': 1}\n",
      "401A555868 {'name': 'unknown', 'events': 1}\n",
      "08065551CE {'name': 'unknown', 'events': 1}\n",
      "0406555666 {'name': 'unknown', 'events': 1}\n",
      "041A555F35 {'name': 'unknown', 'events': 2}\n",
      "001A5051CE {'name': 'unknown', 'events': 2}\n",
      "0C1A555673 {'name': 'unknown', 'events': 1}\n",
      "041A33565F {'name': 'unknown', 'events': 2}\n",
      "041A5536B0 {'name': 'unknown', 'events': 2}\n",
      "041CAAAFDF {'name': 'unknown', 'events': 1}\n",
      "041A5551CE {'name': 'unknown', 'events': 3}\n",
      "041A353868 {'name': 'unknown', 'events': 3}\n",
      "041A535073 {'name': 'unknown', 'events': 1}\n",
      "041A55586A {'name': 'unknown', 'events': 1}\n",
      "041A353FD5 {'name': 'unknown', 'events': 2}\n",
      "241A5556B6 {'name': 'unknown', 'events': 1}\n",
      "041A55560C {'name': 'unknown', 'events': 1}\n",
      "00F6535673 {'name': 'unknown', 'events': 2}\n",
      "041A355602 {'name': 'unknown', 'events': 1}\n",
      "041A553073 {'name': 'unknown', 'events': 1}\n",
      "001A51579E {'name': 'unknown', 'events': 3}\n",
      "041A5556A7 {'name': 'unknown', 'events': 1}\n",
      "041A55578D {'name': 'unknown', 'events': 4}\n",
      "061A555868 {'name': 'unknown', 'events': 2}\n",
      "041A555666 {'name': 'unknown', 'events': 2}\n",
      "041A555FDA {'name': 'unknown', 'events': 2}\n",
      "041A353871 {'name': 'unknown', 'events': 1}\n",
      "041BCD5FD5 {'name': 'unknown', 'events': 1}\n",
      "0407F5563F {'name': 'unknown', 'events': 1}\n",
      "041A555F3E {'name': 'unknown', 'events': 2}\n",
      "041A555969 {'name': 'unknown', 'events': 1}\n",
      "001A4C51C3 {'name': 'unknown', 'events': 1}\n",
      "00F6535868 {'name': 'unknown', 'events': 2}\n",
      "06F655579E {'name': 'unknown', 'events': 2}\n",
      "041A4E2DCE {'name': 'unknown', 'events': 1}\n",
      "041A555FD7 {'name': 'unknown', 'events': 1}\n",
      "F7322276F7 {'name': 'unknown', 'events': 1}\n",
      "041A5557F3 {'name': 'unknown', 'events': 1}\n",
      "041A535808 {'name': 'unknown', 'events': 1}\n",
      "76F3DC07E8 {'name': 'unknown', 'events': 1}\n",
      "041A55567F {'name': 'unknown', 'events': 1}\n",
      "06F6555FD5 {'name': 'unknown', 'events': 1}\n",
      "041BC55673 {'name': 'unknown', 'events': 1}\n",
      "04063558D8 {'name': 'unknown', 'events': 1}\n",
      "F6EF704FBC {'name': 'unknown', 'events': 1}\n",
      "041A553FD3 {'name': 'unknown', 'events': 1}\n",
      "041A5537FE {'name': 'unknown', 'events': 1}\n",
      "241A555673 {'name': 'unknown', 'events': 1}\n",
      "041A55578F {'name': 'unknown', 'events': 1}\n",
      "041A050673 {'name': 'unknown', 'events': 2}\n",
      "41A5556B61 {'name': 'unknown', 'events': 1}\n",
      "0406555F11 {'name': 'unknown', 'events': 2}\n",
      "047D2356B6 {'name': 'unknown', 'events': 1}\n",
      "041A555671 {'name': 'unknown', 'events': 1}\n",
      "001A5056B6 {'name': 'unknown', 'events': 1}\n",
      "040CAAACFE {'name': 'unknown', 'events': 1}\n",
      "041A5351B6 {'name': 'unknown', 'events': 1}\n",
      "041A555DC3 {'name': 'unknown', 'events': 1}\n",
      "041A515673 {'name': 'unknown', 'events': 1}\n",
      "C7EF6556CE {'name': 'unknown', 'events': 1}\n",
      "041A56AE17 {'name': 'unknown', 'events': 1}\n",
      "001A555871 {'name': 'unknown', 'events': 1}\n",
      "041A53563F {'name': 'unknown', 'events': 4}\n",
      "00F6553868 {'name': 'unknown', 'events': 2}\n",
      "F0606348F7 {'name': 'unknown', 'events': 1}\n",
      "041A005868 {'name': 'unknown', 'events': 2}\n",
      "041A5546B6 {'name': 'unknown', 'events': 1}\n",
      "041A5511ED {'name': 'unknown', 'events': 1}\n",
      "B1A5553F98 {'name': 'unknown', 'events': 1}\n",
      "041A3536B6 {'name': 'unknown', 'events': 1}\n",
      "04065091B6 {'name': 'unknown', 'events': 1}\n",
      "001A554870 {'name': 'unknown', 'events': 1}\n",
      "041A5531B6 {'name': 'unknown', 'events': 2}\n",
      "041ADAACFE {'name': 'unknown', 'events': 1}\n",
      "041A3551B6 {'name': 'unknown', 'events': 2}\n",
      "041A55580C {'name': 'unknown', 'events': 1}\n",
      "ECE5998BAC {'name': 'unknown', 'events': 1}\n",
      "041A335871 {'name': 'unknown', 'events': 1}\n",
      "041A5537ED {'name': 'unknown', 'events': 1}\n",
      "ECEE221748 {'name': 'unknown', 'events': 1}\n",
      "041A53505F {'name': 'unknown', 'events': 1}\n",
      "C08D35579E {'name': 'unknown', 'events': 1}\n",
      "06F65553F9 {'name': 'unknown', 'events': 1}\n",
      "041CA6A373 {'name': 'unknown', 'events': 1}\n",
      "041A3353F9 {'name': 'unknown', 'events': 1}\n",
      "041A5556AE {'name': 'unknown', 'events': 1}\n",
      "0CF655560E {'name': 'unknown', 'events': 1}\n",
      "041A555FF3 {'name': 'unknown', 'events': 1}\n",
      "041A555662 {'name': 'unknown', 'events': 1}\n",
      "041A5557B6 {'name': 'unknown', 'events': 1}\n",
      "041A5550CC {'name': 'unknown', 'events': 1}\n",
      "041A559889 {'name': 'unknown', 'events': 1}\n"
     ]
    }
   ],
   "source": [
    "for i in ids:\n",
    "    print(f\"{i} {ids[i]}\")"
   ]
  },
  {
   "cell_type": "markdown",
   "metadata": {},
   "source": [
    "Only first 8 IDs are valid. Let's correct their names."
   ]
  },
  {
   "cell_type": "code",
   "execution_count": 4,
   "metadata": {},
   "outputs": [
    {
     "name": "stdout",
     "output_type": "stream",
     "text": [
      "{'041A55565F': 'Ind1', '041A5556B6': 'Ind2', '041A555868': 'Ind3', '041A5553F9': 'Ind4', '041A555FD5': 'Ind5', '041A555673': 'Ind6', '041A555871': 'Ind7', '041A55579E': 'Ind8'}\n"
     ]
    }
   ],
   "source": [
    "valid_ids = {}\n",
    "animal_nbr = 1\n",
    "for i in list(ids.keys())[:8]:\n",
    "    valid_ids[i] = f\"Ind{animal_nbr}\"\n",
    "    animal_nbr += 1\n",
    "print(valid_ids)"
   ]
  },
  {
   "cell_type": "markdown",
   "metadata": {},
   "source": [
    "Now we can create a new file with correct names."
   ]
  },
  {
   "cell_type": "code",
   "execution_count": 6,
   "metadata": {},
   "outputs": [],
   "source": [
    "ft.set_names_for_ids(\"data\\\\Sample-20.09.08.csv\", \"data\\\\Sample-20.09.08_id.csv\", valid_ids)"
   ]
  },
  {
   "cell_type": "markdown",
   "metadata": {},
   "source": [
    "# Multiple AMs\n",
    "\n",
    "ADMA can analyze and plot data only from one activity monitor. If you csv file contains data from multiple AMs, you have to split data to multiple files. To split the csv file you have to check and maybe correct the metadata inside the file.\n",
    "\n",
    "The metadata can look like this:\\\n",
    "#ID-Device;AM1-1;0;0;0;SAM\\\n",
    "#ID-Device;AM1-2;0;116;0;SAM\\\n",
    "#ID-Device;AM2-1;0;0;0;SAM\\\n",
    "#ID-Device;AM2-2;0;116;0;SAM\\\n",
    "The first two belongs to the one AM1 and next two to a different one AM2. But reader names are the wrong place to differentiate between AMs. So we have to add number to the SAM tag. Like this:\\\n",
    "#ID-Device;AM1-1;0;0;0;SAM1\\\n",
    "#ID-Device;AM1-2;0;116;0;SAM1\\\n",
    "#ID-Device;AM2-1;0;0;0;SAM2\\\n",
    "#ID-Device;AM2-2;0;116;0;SAM2"
   ]
  },
  {
   "cell_type": "markdown",
   "metadata": {},
   "source": [
    "## Split\n",
    "\n",
    "Now we can split the csv file."
   ]
  },
  {
   "cell_type": "code",
   "execution_count": 9,
   "metadata": {},
   "outputs": [],
   "source": [
    "metadata = ft.get_metadata(\"data\\\\Sample-20.09.08_id.csv\")"
   ]
  },
  {
   "cell_type": "code",
   "execution_count": 10,
   "metadata": {},
   "outputs": [
    {
     "name": "stdout",
     "output_type": "stream",
     "text": [
      "RFID2-1 {'x': '0', 'y': '0', 'z': '0', 'SAM': 'SAM'}\n",
      "RFID2-2 {'x': '0', 'y': '155', 'z': '0', 'SAM': 'SAM'}\n",
      "RFID2-3 {'x': '45', 'y': '775', 'z': '0', 'SAM': 'SAM'}\n",
      "RFID2-4 {'x': '45', 'y': '2325', 'z': '0', 'SAM': 'SAM'}\n",
      "RFID2-5 {'x': '90', 'y': '0', 'z': '0', 'SAM': 'SAM'}\n",
      "RFID2-6 {'x': '90', 'y': '155', 'z': '0', 'SAM': 'SAM'}\n",
      "RFID2-7 {'x': '135', 'y': '775', 'z': '0', 'SAM': 'SAM'}\n",
      "RFID2-8 {'x': '135', 'y': '2325', 'z': '0', 'SAM': 'SAM'}\n",
      "RFID2-9 {'x': '180', 'y': '0', 'z': '0', 'SAM': 'SAM'}\n",
      "RFID2-10 {'x': '180', 'y': '155', 'z': '0', 'SAM': 'SAM'}\n",
      "RFID2-11 {'x': '225', 'y': '775', 'z': '0', 'SAM': 'SAM'}\n",
      "RFID2-12 {'x': '225', 'y': '2325', 'z': '0', 'SAM': 'SAM'}\n",
      "RFID2-13 {'x': '270', 'y': '0', 'z': '0', 'SAM': 'SAM'}\n",
      "RFID2-14 {'x': '270', 'y': '155', 'z': '0', 'SAM': 'SAM'}\n",
      "RFID2-15 {'x': '315', 'y': '775', 'z': '0', 'SAM': 'SAM'}\n",
      "RFID2-16 {'x': '315', 'y': '2325', 'z': '0', 'SAM': 'SAM'}\n",
      "RFID2-17 {'x': '360', 'y': '0', 'z': '0', 'SAM': 'SAM'}\n",
      "RFID2-18 {'x': '360', 'y': '155', 'z': '0', 'SAM': 'SAM'}\n",
      "RFID2-19 {'x': '405', 'y': '775', 'z': '0', 'SAM': 'SAM'}\n",
      "RFID2-20 {'x': '405', 'y': '2325', 'z': '0', 'SAM': 'SAM'}\n",
      "RFID2-21 {'x': '450', 'y': '0', 'z': '0', 'SAM': 'SAM'}\n",
      "RFID2-22 {'x': '450', 'y': '155', 'z': '0', 'SAM': 'SAM'}\n",
      "RFID2-23 {'x': '495', 'y': '775', 'z': '0', 'SAM': 'SAM'}\n",
      "RFID2-24 {'x': '495', 'y': '2325', 'z': '0', 'SAM': 'SAM'}\n",
      "RFID3-1 {'x': '0', 'y': '0', 'z': '0', 'SAM': 'SAM'}\n",
      "RFID3-2 {'x': '0', 'y': '155', 'z': '0', 'SAM': 'SAM'}\n",
      "RFID3-3 {'x': '45', 'y': '775', 'z': '0', 'SAM': 'SAM'}\n",
      "RFID3-4 {'x': '45', 'y': '2325', 'z': '0', 'SAM': 'SAM'}\n",
      "RFID3-5 {'x': '90', 'y': '0', 'z': '0', 'SAM': 'SAM'}\n",
      "RFID3-6 {'x': '90', 'y': '155', 'z': '0', 'SAM': 'SAM'}\n",
      "RFID3-7 {'x': '135', 'y': '775', 'z': '0', 'SAM': 'SAM'}\n",
      "RFID3-8 {'x': '135', 'y': '2325', 'z': '0', 'SAM': 'SAM'}\n",
      "RFID3-9 {'x': '180', 'y': '0', 'z': '0', 'SAM': 'SAM'}\n",
      "RFID3-10 {'x': '180', 'y': '155', 'z': '0', 'SAM': 'SAM'}\n",
      "RFID3-11 {'x': '225', 'y': '775', 'z': '0', 'SAM': 'SAM'}\n",
      "RFID3-12 {'x': '225', 'y': '2325', 'z': '0', 'SAM': 'SAM'}\n",
      "RFID3-13 {'x': '270', 'y': '0', 'z': '0', 'SAM': 'SAM'}\n",
      "RFID3-14 {'x': '270', 'y': '155', 'z': '0', 'SAM': 'SAM'}\n",
      "RFID3-15 {'x': '315', 'y': '775', 'z': '0', 'SAM': 'SAM'}\n",
      "RFID3-16 {'x': '315', 'y': '2325', 'z': '0', 'SAM': 'SAM'}\n",
      "RFID3-17 {'x': '360', 'y': '0', 'z': '0', 'SAM': 'SAM'}\n",
      "RFID3-18 {'x': '360', 'y': '155', 'z': '0', 'SAM': 'SAM'}\n",
      "RFID3-19 {'x': '405', 'y': '775', 'z': '0', 'SAM': 'SAM'}\n",
      "RFID3-20 {'x': '405', 'y': '2325', 'z': '0', 'SAM': 'SAM'}\n",
      "RFID3-21 {'x': '450', 'y': '0', 'z': '0', 'SAM': 'SAM'}\n",
      "RFID3-22 {'x': '450', 'y': '155', 'z': '0', 'SAM': 'SAM'}\n",
      "RFID3-23 {'x': '495', 'y': '775', 'z': '0', 'SAM': 'SAM'}\n",
      "RFID3-24 {'x': '495', 'y': '2325', 'z': '0', 'SAM': 'SAM'}\n"
     ]
    }
   ],
   "source": [
    "for d in metadata:\n",
    "    print(f\"{d} {metadata[d]}\")"
   ]
  },
  {
   "cell_type": "markdown",
   "metadata": {},
   "source": [
    "The first 24 readers belong to the first AM and the last 24 to the second one."
   ]
  },
  {
   "cell_type": "code",
   "execution_count": 15,
   "metadata": {},
   "outputs": [],
   "source": [
    "for i in list(metadata.keys())[:24]:\n",
    "    metadata[i][\"SAM\"] = \"SAM1\"\n",
    "for i in list(metadata.keys())[24:]:\n",
    "    metadata[i][\"SAM\"] = \"SAM2\""
   ]
  },
  {
   "cell_type": "code",
   "execution_count": 16,
   "metadata": {},
   "outputs": [
    {
     "name": "stdout",
     "output_type": "stream",
     "text": [
      "RFID2-1 {'x': '0', 'y': '0', 'z': '0', 'SAM': 'SAM1'}\n",
      "RFID2-2 {'x': '0', 'y': '155', 'z': '0', 'SAM': 'SAM1'}\n",
      "RFID2-3 {'x': '45', 'y': '775', 'z': '0', 'SAM': 'SAM1'}\n",
      "RFID2-4 {'x': '45', 'y': '2325', 'z': '0', 'SAM': 'SAM1'}\n",
      "RFID2-5 {'x': '90', 'y': '0', 'z': '0', 'SAM': 'SAM1'}\n",
      "RFID2-6 {'x': '90', 'y': '155', 'z': '0', 'SAM': 'SAM1'}\n",
      "RFID2-7 {'x': '135', 'y': '775', 'z': '0', 'SAM': 'SAM1'}\n",
      "RFID2-8 {'x': '135', 'y': '2325', 'z': '0', 'SAM': 'SAM1'}\n",
      "RFID2-9 {'x': '180', 'y': '0', 'z': '0', 'SAM': 'SAM1'}\n",
      "RFID2-10 {'x': '180', 'y': '155', 'z': '0', 'SAM': 'SAM1'}\n",
      "RFID2-11 {'x': '225', 'y': '775', 'z': '0', 'SAM': 'SAM1'}\n",
      "RFID2-12 {'x': '225', 'y': '2325', 'z': '0', 'SAM': 'SAM1'}\n",
      "RFID2-13 {'x': '270', 'y': '0', 'z': '0', 'SAM': 'SAM1'}\n",
      "RFID2-14 {'x': '270', 'y': '155', 'z': '0', 'SAM': 'SAM1'}\n",
      "RFID2-15 {'x': '315', 'y': '775', 'z': '0', 'SAM': 'SAM1'}\n",
      "RFID2-16 {'x': '315', 'y': '2325', 'z': '0', 'SAM': 'SAM1'}\n",
      "RFID2-17 {'x': '360', 'y': '0', 'z': '0', 'SAM': 'SAM1'}\n",
      "RFID2-18 {'x': '360', 'y': '155', 'z': '0', 'SAM': 'SAM1'}\n",
      "RFID2-19 {'x': '405', 'y': '775', 'z': '0', 'SAM': 'SAM1'}\n",
      "RFID2-20 {'x': '405', 'y': '2325', 'z': '0', 'SAM': 'SAM1'}\n",
      "RFID2-21 {'x': '450', 'y': '0', 'z': '0', 'SAM': 'SAM1'}\n",
      "RFID2-22 {'x': '450', 'y': '155', 'z': '0', 'SAM': 'SAM1'}\n",
      "RFID2-23 {'x': '495', 'y': '775', 'z': '0', 'SAM': 'SAM1'}\n",
      "RFID2-24 {'x': '495', 'y': '2325', 'z': '0', 'SAM': 'SAM1'}\n",
      "RFID3-1 {'x': '0', 'y': '0', 'z': '0', 'SAM': 'SAM2'}\n",
      "RFID3-2 {'x': '0', 'y': '155', 'z': '0', 'SAM': 'SAM2'}\n",
      "RFID3-3 {'x': '45', 'y': '775', 'z': '0', 'SAM': 'SAM2'}\n",
      "RFID3-4 {'x': '45', 'y': '2325', 'z': '0', 'SAM': 'SAM2'}\n",
      "RFID3-5 {'x': '90', 'y': '0', 'z': '0', 'SAM': 'SAM2'}\n",
      "RFID3-6 {'x': '90', 'y': '155', 'z': '0', 'SAM': 'SAM2'}\n",
      "RFID3-7 {'x': '135', 'y': '775', 'z': '0', 'SAM': 'SAM2'}\n",
      "RFID3-8 {'x': '135', 'y': '2325', 'z': '0', 'SAM': 'SAM2'}\n",
      "RFID3-9 {'x': '180', 'y': '0', 'z': '0', 'SAM': 'SAM2'}\n",
      "RFID3-10 {'x': '180', 'y': '155', 'z': '0', 'SAM': 'SAM2'}\n",
      "RFID3-11 {'x': '225', 'y': '775', 'z': '0', 'SAM': 'SAM2'}\n",
      "RFID3-12 {'x': '225', 'y': '2325', 'z': '0', 'SAM': 'SAM2'}\n",
      "RFID3-13 {'x': '270', 'y': '0', 'z': '0', 'SAM': 'SAM2'}\n",
      "RFID3-14 {'x': '270', 'y': '155', 'z': '0', 'SAM': 'SAM2'}\n",
      "RFID3-15 {'x': '315', 'y': '775', 'z': '0', 'SAM': 'SAM2'}\n",
      "RFID3-16 {'x': '315', 'y': '2325', 'z': '0', 'SAM': 'SAM2'}\n",
      "RFID3-17 {'x': '360', 'y': '0', 'z': '0', 'SAM': 'SAM2'}\n",
      "RFID3-18 {'x': '360', 'y': '155', 'z': '0', 'SAM': 'SAM2'}\n",
      "RFID3-19 {'x': '405', 'y': '775', 'z': '0', 'SAM': 'SAM2'}\n",
      "RFID3-20 {'x': '405', 'y': '2325', 'z': '0', 'SAM': 'SAM2'}\n",
      "RFID3-21 {'x': '450', 'y': '0', 'z': '0', 'SAM': 'SAM2'}\n",
      "RFID3-22 {'x': '450', 'y': '155', 'z': '0', 'SAM': 'SAM2'}\n",
      "RFID3-23 {'x': '495', 'y': '775', 'z': '0', 'SAM': 'SAM2'}\n",
      "RFID3-24 {'x': '495', 'y': '2325', 'z': '0', 'SAM': 'SAM2'}\n"
     ]
    }
   ],
   "source": [
    "for d in metadata:\n",
    "    print(f\"{d} {metadata[d]}\")"
   ]
  },
  {
   "cell_type": "markdown",
   "metadata": {},
   "source": [
    "Now we can correct the SAM tag."
   ]
  },
  {
   "cell_type": "code",
   "execution_count": 17,
   "metadata": {},
   "outputs": [],
   "source": [
    "ft.set_metadata(\"data\\\\Sample-20.09.08_id.csv\", \"data\\\\Sample-20.09.08_id_am.csv\", metadata)"
   ]
  },
  {
   "cell_type": "markdown",
   "metadata": {},
   "source": [
    "Let's split the data."
   ]
  },
  {
   "cell_type": "code",
   "execution_count": 18,
   "metadata": {},
   "outputs": [],
   "source": [
    "files = ft.am_split(\"data\\\\Sample-20.09.08_id_am.csv\")"
   ]
  },
  {
   "cell_type": "markdown",
   "metadata": {},
   "source": [
    "in this case after the splitting we have two new files"
   ]
  },
  {
   "cell_type": "code",
   "execution_count": 19,
   "metadata": {},
   "outputs": [
    {
     "data": {
      "text/plain": [
       "['data\\\\SAM1_Sample-20.09.08_id_am.csv',\n",
       " 'data\\\\SAM2_Sample-20.09.08_id_am.csv']"
      ]
     },
     "execution_count": 19,
     "metadata": {},
     "output_type": "execute_result"
    }
   ],
   "source": [
    "files"
   ]
  },
  {
   "cell_type": "code",
   "execution_count": null,
   "metadata": {},
   "outputs": [],
   "source": []
  }
 ],
 "metadata": {
  "kernelspec": {
   "display_name": "Python 3.8.5 64-bit ('venv': venv)",
   "language": "python",
   "name": "python38564bitvenvvenvaabda3a79266496ebd4279032be3b6e4"
  },
  "language_info": {
   "codemirror_mode": {
    "name": "ipython",
    "version": 3
   },
   "file_extension": ".py",
   "mimetype": "text/x-python",
   "name": "python",
   "nbconvert_exporter": "python",
   "pygments_lexer": "ipython3",
   "version": "3.8.5"
  }
 },
 "nbformat": 4,
 "nbformat_minor": 4
}
